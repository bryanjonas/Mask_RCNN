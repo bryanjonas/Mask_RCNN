{
 "cells": [
  {
   "cell_type": "code",
   "execution_count": 1,
   "metadata": {},
   "outputs": [],
   "source": [
    "import os\n",
    "import sys\n",
    "import random\n",
    "import math\n",
    "import re\n",
    "import time\n",
    "import numpy as np\n",
    "import cv2\n",
    "import matplotlib\n",
    "import matplotlib.pyplot as plt\n",
    "from glob import glob\n",
    "# Root directory of the project\n",
    "ROOT_DIR = os.path.abspath(\"/lfs/jonas/maskrcnn/\")\n",
    "\n",
    "# Import Mask RCNN\n",
    "sys.path.append(ROOT_DIR)  # To find local version of the library\n",
    "from mrcnn.config import Config\n",
    "from mrcnn import utils\n",
    "import mrcnn.model as modellib\n",
    "from mrcnn import visualize\n",
    "from mrcnn.model import log\n",
    "\n",
    "%matplotlib inline \n",
    "\n",
    "# Directory to save logs and trained model\n",
    "MODEL_DIR = os.path.join(ROOT_DIR, \"logs\")"
   ]
  },
  {
   "cell_type": "code",
   "execution_count": 2,
   "metadata": {},
   "outputs": [],
   "source": [
    "class SatsConfig(Config):\n",
    "    \"\"\"Configuration for training on the toy shapes dataset.\n",
    "    Derives from the base Config class and overrides values specific\n",
    "    to the toy shapes dataset.\n",
    "    \"\"\"\n",
    "    # Give the configuration a recognizable name\n",
    "    NAME = \"sats\"\n",
    "\n",
    "    # Train on 1 GPU and 8 images per GPU. We can put multiple images on each\n",
    "    # GPU because the images are small. Batch size is 8 (GPUs * images/GPU).\n",
    "    GPU_COUNT = 1\n",
    "    IMAGES_PER_GPU = 8\n",
    "\n",
    "    # Number of classes (including background)\n",
    "    NUM_CLASSES = 1 + 1  # background + 3 shapes\n",
    "\n",
    "    # Use small images for faster training. Set the limits of the small side\n",
    "    # the large side, and that determines the image shape.\n",
    "    IMAGE_MIN_DIM = 128\n",
    "    IMAGE_MAX_DIM = 128\n",
    "\n",
    "    # Use smaller anchors because our image and objects are small\n",
    "    RPN_ANCHOR_SCALES = (2, 4, 8, 16, 32)  # anchor side in pixels\n",
    "\n",
    "    # Reduce training ROIs per image because the images are small and have\n",
    "    # few objects. Aim to allow ROI sampling to pick 33% positive ROIs.\n",
    "    TRAIN_ROIS_PER_IMAGE = 128\n",
    "\n",
    "    # Use a small epoch since the data is simple\n",
    "    STEPS_PER_EPOCH = 1\n",
    "\n",
    "    # use small validation steps since the epoch is small\n",
    "    VALIDATION_STEPS = 1\n",
    "    \n",
    "    USE_MINI_MASK = False\n",
    "    MINI_MASK_SHAPE = (128,128)\n",
    "    \n",
    "config = SatsConfig()"
   ]
  },
  {
   "cell_type": "code",
   "execution_count": 3,
   "metadata": {},
   "outputs": [],
   "source": [
    "def load_image(image_path):\n",
    "    \"\"\"Load the specified image and return a [H,W,3] Numpy array.\n",
    "    \"\"\"\n",
    "    from skimage.io import imread\n",
    "\n",
    "    image = np.array(imread(image_path), dtype=float)\n",
    "        \n",
    "    bands = [4,2,1]\n",
    "            \n",
    "    image = image[:,:,bands]\n",
    "        \n",
    "    #image = (image * 255) / image.max()\n",
    "        \n",
    "    mean_std_data = np.loadtxt('image_mean_std.txt', delimiter=',')\n",
    "    mean_std_data = mean_std_data[bands,:]\n",
    "    image = preprocessing_image_ms(image, mean_std_data[:,0], mean_std_data[:,1])\n",
    "        \n",
    "    return image   \n",
    "    \n",
    "def load_orig_image(image_path):\n",
    "    \"\"\"Load the specified image (without stand.) and return a [H,W,3] Numpy array.\n",
    "    \"\"\"\n",
    "    from skimage.io import imread\n",
    "    # Load image\n",
    "    image = np.array(imread(image_path), dtype=float)\n",
    "        \n",
    "    bands = [4,2,1]\n",
    "        \n",
    "    image = image[:,:,bands]\n",
    "        \n",
    "    image = (image * 255) / image.max()\n",
    "        \n",
    "    return image   \n",
    "def preprocessing_image_ms(x, mean, std):\n",
    "    # loop over image bands\n",
    "    for idx, mean_value in enumerate(mean):\n",
    "        x[..., idx] -= mean_value\n",
    "        x[..., idx] /= std[idx]\n",
    "    return x\n"
   ]
  },
  {
   "cell_type": "code",
   "execution_count": 47,
   "metadata": {},
   "outputs": [],
   "source": [
    "valid_image_path = '/data/spacenet/bldg/data/validation/MUL/'\n",
    "valid_glob = glob(valid_image_path + '*.tif')"
   ]
  },
  {
   "cell_type": "code",
   "execution_count": 50,
   "metadata": {},
   "outputs": [],
   "source": [
    "image_path = random.sample(valid_glob, 1)[0]"
   ]
  },
  {
   "cell_type": "code",
   "execution_count": 51,
   "metadata": {},
   "outputs": [],
   "source": [
    "stan_image = load_image(image_path)\n",
    "orig_image = load_orig_image(image_path)"
   ]
  },
  {
   "cell_type": "code",
   "execution_count": 54,
   "metadata": {},
   "outputs": [],
   "source": [
    "def scale_coord(geom, image):\n",
    "\n",
    "        scale_x = abs(geom[0] - image.bounds[0]) * abs(image.width / (image.bounds[0] - image.bounds[2]))\n",
    "        scale_y = abs(geom[1] - image.bounds[3]) * abs(image.height / (image.bounds[1] - image.bounds[3]))\n",
    "\n",
    "\n",
    "        return scale_x, scale_y\n",
    "def preprocessing_image_ms(x, mean, std):\n",
    "        # loop over image bands\n",
    "        for idx, mean_value in enumerate(mean):\n",
    "            x[..., idx] -= mean_value\n",
    "            x[..., idx] /= std[idx]\n",
    "        return x\n",
    "    \n",
    "def load_mask(input_path, geojson_path):\n",
    "        import cv2\n",
    "        import os\n",
    "        import json\n",
    "        import rasterio as rio\n",
    "        import numpy as np\n",
    "        import scipy.ndimage as ndi\n",
    "        \n",
    "        image_filename = os.path.split(input_path)[-1]\n",
    "        json_filename = 'buildings' + image_filename[14:-4] + '.geojson'\n",
    "        geojson_file = os.path.join(geojson_path, json_filename)\n",
    "        print(json_filename)\n",
    "        #Load JSON\n",
    "        with open(geojson_file, 'r') as f:\n",
    "            geo_json = json.load(f)\n",
    "    \n",
    "        #Open image to get scale\n",
    "        image = rio.open(input_path)\n",
    "        image_shape = image.shape\n",
    "        #Load and scale all the polygons (buildings)\n",
    "        polys = []\n",
    "\n",
    "        for feature in geo_json['features']:\n",
    "            scaled_coordSet = []\n",
    "            if feature['geometry']['type'] == 'Polygon':\n",
    "                for coordinatesSet in feature['geometry']['coordinates']:\n",
    "                    for coordinates in coordinatesSet:\n",
    "                        scale_x, scale_y = scale_coord(coordinates, image)\n",
    "                        scaled_coordSet += [[scale_x, scale_y]]\n",
    "\n",
    "        \n",
    "            if feature['geometry']['type'] == 'MultiPolygon':\n",
    "                for polygon in feature['geometry']['coordinates']:\n",
    "                    for coordinatesSet in polygon:\n",
    "                        scaled_coord = []\n",
    "                        for coordinates in coordinatesSet:\n",
    "                            scale_x, scale_y = scale_coord(coordinates, image)\n",
    "                            scaled_coord += [[scale_x, scale_y]]\n",
    "                    scaled_coord = np.array(scaled_coord)\n",
    "                scaled_coordSet += [scaled_coord]\n",
    "\n",
    "            geom_fixed = np.array(scaled_coordSet, dtype=np.int32)\n",
    "    \n",
    "            if geom_fixed.shape[0] != 0:\n",
    "                polys += [geom_fixed]\n",
    "\n",
    "        polys = np.array(polys)\n",
    "\n",
    "        mask = np.zeros(image_shape)\n",
    "        cv2.fillPoly(mask, polys, 1)\n",
    "    \n",
    "        mask = mask.reshape(mask.shape[0], mask.shape[1])\n",
    "        \n",
    "        segs, count = ndi.label(mask)\n",
    "        if count == 0:\n",
    "            maskArr = np.empty([0, 0, 0])\n",
    "            class_ids = np.empty([0], np.int32)\n",
    "        else:\n",
    "            maskArr = np.empty((segs.shape[0], segs.shape[1]))\n",
    "            class_id_list = []\n",
    "            for i in range(1, count+1):\n",
    "                intArr = (segs == i)\n",
    "                intArr.astype(int)\n",
    "                maskArr = np.dstack((maskArr, intArr))\n",
    "                class_id_list += [1]\n",
    "            maskArr = np.delete(maskArr, 0, axis=2)\n",
    "            \n",
    "            class_ids = np.array(class_id_list)\n",
    "        return maskArr, class_ids"
   ]
  },
  {
   "cell_type": "code",
   "execution_count": 56,
   "metadata": {},
   "outputs": [
    {
     "name": "stdout",
     "output_type": "stream",
     "text": [
      "buildings_AOI_2_Vegas_img3701.geojson\n"
     ]
    },
    {
     "name": "stderr",
     "output_type": "stream",
     "text": [
      "<ipython-input-54-bd04f0fb5c65>:61: VisibleDeprecationWarning: Creating an ndarray from ragged nested sequences (which is a list-or-tuple of lists-or-tuples-or ndarrays with different lengths or shapes) is deprecated. If you meant to do this, you must specify 'dtype=object' when creating the ndarray\n",
      "  polys = np.array(polys)\n"
     ]
    },
    {
     "data": {
      "text/plain": [
       "(650, 650, 27)"
      ]
     },
     "execution_count": 56,
     "metadata": {},
     "output_type": "execute_result"
    }
   ],
   "source": [
    "mask, _ = load_mask(image_path, '/data/spacenet/bldg/data/validation/geojson/')\n",
    "mask.shape"
   ]
  },
  {
   "cell_type": "code",
   "execution_count": 59,
   "metadata": {},
   "outputs": [],
   "source": [
    "bbox = utils.extract_bboxes(mask)"
   ]
  },
  {
   "cell_type": "code",
   "execution_count": 82,
   "metadata": {},
   "outputs": [
    {
     "name": "stdout",
     "output_type": "stream",
     "text": [
      "[  4  83  70 179]\n"
     ]
    },
    {
     "data": {
      "text/plain": [
       "<matplotlib.image.AxesImage at 0x7f1bc73791c0>"
      ]
     },
     "execution_count": 82,
     "metadata": {},
     "output_type": "execute_result"
    },
    {
     "data": {
      "image/png": "[encoded data removed]",
      "text/plain": [
       "<Figure size 360x360 with 1 Axes>"
      ]
     },
     "metadata": {
      "needs_background": "light"
     },
     "output_type": "display_data"
    }
   ],
   "source": [
    "from matplotlib import patches\n",
    "print(bbox[2])\n",
    "y1, x1, y2, x2 = bbox[2]\n",
    "_, ax = plt.subplots(1, figsize=(5,5))\n",
    "p = patches.Rectangle((x1, y1), x2 - x1, y2 - y1, linewidth=2,\n",
    "                      alpha=0.7, linestyle=\"dashed\",\n",
    "                      edgecolor='blue', facecolor='none')\n",
    "ax.add_patch(p)\n",
    "ax.imshow(mask[:,:,2])"
   ]
  },
  {
   "cell_type": "raw",
   "metadata": {},
   "source": [
    "class InferenceConfig(SatsConfig):\n",
    "    GPU_COUNT = 1\n",
    "    IMAGES_PER_GPU = 1\n",
    "\n",
    "inference_config = InferenceConfig()\n",
    "\n",
    "# Recreate the model in inference mode\n",
    "model = modellib.MaskRCNN(mode=\"inference\", \n",
    "                          config=inference_config,\n",
    "                          model_dir=MODEL_DIR)\n",
    "\n",
    "# Get path to saved weights\n",
    "# Either set a specific path or find last trained weights\n",
    "# model_path = os.path.join(ROOT_DIR, \".h5 file name here\")\n",
    "model_path = model.find_last()\n",
    "\n",
    "# Load trained weights\n",
    "print(\"Loading weights from \", model_path)\n",
    "model.load_weights(model_path, by_name=True)"
   ]
  },
  {
   "cell_type": "raw",
   "metadata": {},
   "source": [
    "# Test on a random image\n",
    "image_id = random.choice(dataset_val.image_ids)\n",
    "stan_image, orig_image, image_meta, gt_class_id, gt_bbox, gt_mask =\\\n",
    "    modellib.load_image_gt(dataset_val, inference_config, \n",
    "                           image_id)\n",
    "\n",
    "log(\"orig_image\", orig_image)\n",
    "log(\"image_meta\", image_meta)\n",
    "log(\"gt_class_id\", gt_class_id)\n",
    "log(\"gt_bbox\", gt_bbox)\n",
    "log(\"gt_mask\", gt_mask)\n",
    "\n",
    "visualize.display_instances(orig_image, gt_bbox, gt_mask, gt_class_id, \n",
    "                            dataset_train.class_names, figsize=(8, 8))"
   ]
  },
  {
   "cell_type": "raw",
   "metadata": {},
   "source": [
    "def get_ax(rows=1, cols=1, size=8):\n",
    "    \"\"\"Return a Matplotlib Axes array to be used in\n",
    "    all visualizations in the notebook. Provide a\n",
    "    central point to control graph sizes.\n",
    "    \n",
    "    Change the default size attribute to control the size\n",
    "    of rendered images\n",
    "    \"\"\"\n",
    "    _, ax = plt.subplots(rows, cols, figsize=(size*cols, size*rows))\n",
    "    return ax"
   ]
  },
  {
   "cell_type": "raw",
   "metadata": {},
   "source": [
    "results = model.detect([stan_image], verbose=1)\n",
    "\n",
    "r = results[0]\n",
    "\n",
    "#plt.imshow(r['masks'][:,:,0])\n",
    "\n",
    "visualize.display_instances(orig_image, r['rois'], r['masks'], r['class_ids'], \n",
    "                            'W ', r['scores'], ax=get_ax())"
   ]
  },
  {
   "cell_type": "raw",
   "metadata": {},
   "source": [
    "def display_local(image, boxes, masks, class_ids, class_names,\n",
    "                      scores=None, title=\"\",\n",
    "                      figsize=(16, 16), ax=None,\n",
    "                      show_mask=True, show_bbox=True,\n",
    "                      colors=None, captions=None):\n",
    "    \"\"\"\n",
    "    boxes: [num_instance, (y1, x1, y2, x2, class_id)] in image coordinates.\n",
    "    masks: [height, width, num_instances]\n",
    "    class_ids: [num_instances]\n",
    "    class_names: list of class names of the dataset\n",
    "    scores: (optional) confidence scores for each box\n",
    "    title: (optional) Figure title\n",
    "    show_mask, show_bbox: To show masks and bounding boxes or not\n",
    "    figsize: (optional) the size of the image\n",
    "    colors: (optional) An array or colors to use with each object\n",
    "    captions: (optional) A list of strings to use as captions for each object\n",
    "    \"\"\"\n",
    "    # Number of instances\n",
    "    N = boxes.shape[0]\n",
    "    if not N:\n",
    "        print(\"\\n*** No instances to display *** \\n\")\n",
    "    else:\n",
    "        assert boxes.shape[0] == masks.shape[-1] == class_ids.shape[0]\n",
    "\n",
    "    # If no axis is passed, create one and automatically call show()\n",
    "    auto_show = False\n",
    "    if not ax:\n",
    "        _, ax = plt.subplots(1, figsize=figsize)\n",
    "        auto_show = True\n",
    "\n",
    "    # Generate random colors\n",
    "    colors = colors or visualize.random_colors(N)\n",
    "\n",
    "    # Show area outside image boundaries.\n",
    "    height, width = image.shape[:2]\n",
    "    ax.set_ylim(height + 10, -10)\n",
    "    ax.set_xlim(-10, width + 10)\n",
    "    ax.axis('off')\n",
    "    ax.set_title(title)\n",
    "\n",
    "    masked_image = image.astype(np.uint32).copy()\n",
    "    for i in range(N):\n",
    "        color = colors[i]\n",
    "\n",
    "        # Bounding box\n",
    "        #if not np.any(boxes[i]):\n",
    "            # Skip this instance. Has no bbox. Likely lost in image cropping.\n",
    "        #    continue\n",
    "        #y1, x1, y2, x2 = boxes[i]\n",
    "        #if show_bbox:\n",
    "        #    p = patches.Rectangle((x1, y1), x2 - x1, y2 - y1, linewidth=2,\n",
    "        #                        alpha=0.7, linestyle=\"dashed\",\n",
    "        #                        edgecolor=color, facecolor='none')\n",
    "        #    ax.add_patch(p)\n",
    "\n",
    "        # Label\n",
    "        #if not captions:\n",
    "        #    class_id = class_ids[i]\n",
    "        #    score = scores[i] if scores is not None else None\n",
    "        #    label = class_names[class_id]\n",
    "        #    caption = \"{} {:.3f}\".format(label, score) if score else label\n",
    "        #else:\n",
    "        #    caption = captions[i]\n",
    "        #ax.text(x1, y1 + 8, caption,\n",
    "        #        color='w', size=11, backgroundcolor=\"none\")\n",
    "\n",
    "        # Mask\n",
    "        mask = masks[:, :, i]\n",
    "        if show_mask:\n",
    "            masked_image = visualize.apply_mask(masked_image, mask, color)\n",
    "\n",
    "        # Mask Polygon\n",
    "        # Pad to ensure proper polygons for masks that touch image edges.\n",
    "        padded_mask = np.zeros((mask.shape[0] + 2, mask.shape[1] + 2), dtype=np.uint8)\n",
    "        padded_mask[1:-1, 1:-1] = mask\n",
    "        contours = visualize.find_contours(padded_mask, 0.5)\n",
    "        \n",
    "        for verts in contours:\n",
    "            # Subtract the padding and flip (y, x) to (x, y)\n",
    "            verts = np.fliplr(verts) - 1\n",
    "            p = visualize.Polygon(verts, facecolor=\"none\", edgecolor=color)\n",
    "            ax.add_patch(p)\n",
    "    ax.imshow(masked_image.astype(np.uint8))\n",
    "    if auto_show:\n",
    "        plt.show()\n"
   ]
  },
  {
   "cell_type": "raw",
   "metadata": {},
   "source": [
    "display_local(orig_image, r['rois'], r['masks'], r['class_ids'], \n",
    "                            'W ', r['scores'], ax=get_ax())"
   ]
  },
  {
   "cell_type": "raw",
   "metadata": {},
   "source": [
    "def display_centers(image, boxes, masks, class_ids, class_names,\n",
    "                      scores=None, title=\"\",\n",
    "                      figsize=(16, 16), ax=None,\n",
    "                      show_mask=True, show_bbox=True,\n",
    "                      colors=None, captions=None):\n",
    "    \"\"\"\n",
    "    boxes: [num_instance, (y1, x1, y2, x2, class_id)] in image coordinates.\n",
    "    masks: [height, width, num_instances]\n",
    "    class_ids: [num_instances]\n",
    "    class_names: list of class names of the dataset\n",
    "    scores: (optional) confidence scores for each box\n",
    "    title: (optional) Figure title\n",
    "    show_mask, show_bbox: To show masks and bounding boxes or not\n",
    "    figsize: (optional) the size of the image\n",
    "    colors: (optional) An array or colors to use with each object\n",
    "    captions: (optional) A list of strings to use as captions for each object\n",
    "    \"\"\"\n",
    "    from matplotlib import patches\n",
    "    # Number of instances\n",
    "    N = boxes.shape[0]\n",
    "    if not N:\n",
    "        print(\"\\n*** No instances to display *** \\n\")\n",
    "    else:\n",
    "        assert boxes.shape[0] == masks.shape[-1] == class_ids.shape[0]\n",
    "\n",
    "    # If no axis is passed, create one and automatically call show()\n",
    "    auto_show = False\n",
    "    if not ax:\n",
    "        _, ax = plt.subplots(1, figsize=figsize)\n",
    "        auto_show = True\n",
    "\n",
    "    # Generate random colors\n",
    "    colors = colors or visualize.random_colors(N)\n",
    "\n",
    "    # Show area outside image boundaries.\n",
    "    height, width = image.shape[:2]\n",
    "    ax.set_ylim(height + 10, -10)\n",
    "    ax.set_xlim(-10, width + 10)\n",
    "    ax.axis('off')\n",
    "    ax.set_title(title)\n",
    "\n",
    "    masked_image = image.astype(np.uint32).copy()\n",
    "    for i in range(N):\n",
    "        color = colors[i]\n",
    "\n",
    "        # Bounding box\n",
    "        if not np.any(boxes[i]):\n",
    "            # Skip this instance. Has no bbox. Likely lost in image cropping.\n",
    "            continue\n",
    "        else:\n",
    "            y1, x1, y2, x2 = boxes[i]\n",
    "            cen_y = y1 + ((y2 - y1)/2)\n",
    "            cen_x = x1 + ((x2 - x1)/2)\n",
    "            p = patches.Circle((cen_x, cen_y), 5)\n",
    "            ax.add_patch(p)\n",
    "\n",
    "\n",
    "    ax.imshow(masked_image.astype(np.uint8))\n",
    "    if auto_show:\n",
    "        plt.show()"
   ]
  },
  {
   "cell_type": "raw",
   "metadata": {},
   "source": [
    "display_centers(orig_image, r['rois'], r['masks'], r['class_ids'], \n",
    "                            'W ', r['scores'], ax=get_ax())"
   ]
  },
  {
   "cell_type": "code",
   "execution_count": null,
   "metadata": {},
   "outputs": [],
   "source": []
  }
 ],
 "metadata": {
  "kernelspec": {
   "display_name": "Python 3",
   "language": "python",
   "name": "python3"
  },
  "language_info": {
   "codemirror_mode": {
    "name": "ipython",
    "version": 3
   },
   "file_extension": ".py",
   "mimetype": "text/x-python",
   "name": "python",
   "nbconvert_exporter": "python",
   "pygments_lexer": "ipython3",
   "version": "3.8.5"
  }
 },
 "nbformat": 4,
 "nbformat_minor": 4
}
